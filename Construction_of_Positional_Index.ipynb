{
  "nbformat": 4,
  "nbformat_minor": 0,
  "metadata": {
    "colab": {
      "provenance": [],
      "mount_file_id": "1zlFox4pYoetSBx8qCS0zGT6B8VcwKinx",
      "authorship_tag": "ABX9TyPsm9Hx9rxsmWkekMm1IK/9",
      "include_colab_link": true
    },
    "kernelspec": {
      "name": "python3",
      "display_name": "Python 3"
    },
    "language_info": {
      "name": "python"
    }
  },
  "cells": [
    {
      "cell_type": "markdown",
      "metadata": {
        "id": "view-in-github",
        "colab_type": "text"
      },
      "source": [
        "<a href=\"https://colab.research.google.com/github/utkar22/CSE508_Winter2023_A1_48/blob/main/Construction_of_Positional_Index.ipynb\" target=\"_parent\"><img src=\"https://colab.research.google.com/assets/colab-badge.svg\" alt=\"Open In Colab\"/></a>"
      ]
    },
    {
      "cell_type": "code",
      "source": [
        "import pickle\n",
        "from typing import List\n",
        "import os\n",
        "import nltk\n",
        "from nltk.tokenize import word_tokenize\n",
        "nltk.download('punkt')\n",
        "nltk.download('stopwords')\n",
        "from nltk.corpus import stopwords\n",
        "from nltk.tokenize import RegexpTokenizer\n",
        "import string"
      ],
      "metadata": {
        "colab": {
          "base_uri": "https://localhost:8080/"
        },
        "id": "yJy2YvDpgeUd",
        "outputId": "56ecaa9b-8794-4ba1-8ce4-4e2e5a4a13bf"
      },
      "execution_count": null,
      "outputs": [
        {
          "output_type": "stream",
          "name": "stderr",
          "text": [
            "[nltk_data] Downloading package punkt to /root/nltk_data...\n",
            "[nltk_data]   Package punkt is already up-to-date!\n",
            "[nltk_data] Downloading package stopwords to /root/nltk_data...\n",
            "[nltk_data]   Package stopwords is already up-to-date!\n"
          ]
        }
      ]
    },
    {
      "cell_type": "code",
      "source": [
        "from typing import List\n",
        "class preprocessor:\n",
        "  def __init__(self):\n",
        "    self.value = 1\n",
        "  \n",
        "  def read_file(self, path:str, type_of:str) -> str:\n",
        "\n",
        "    '''reads the contents of a file and converts them into \n",
        "    a string of words separated by space.'''\n",
        "    f = open(path, 'r')\n",
        "    text = ''\n",
        "    words = []\n",
        "    for line in f:\n",
        "      for word in line.split(\" \"):\n",
        "        text += word + ' '\n",
        "        words.append(word)\n",
        "    f.close()\n",
        "    return text if type_of == 'text' else words\n",
        "  \n",
        "  def tokenize(self, text:str):\n",
        "    ''' The function takes in a string and \n",
        "    converts it into a list of tokens using nltk'''\n",
        "\n",
        "    tokens = word_tokenize(text)\n",
        "    return tokens\n",
        "  def tokens_to_text(self, tokens:List) -> str:\n",
        "    ''' converts the tokens into space-separated string'''\n",
        "    text = ''\n",
        "    for token in tokens:\n",
        "\n",
        "      text += '' + token + ' '\n",
        "    return text\n",
        "\n",
        "  def lowercase(self, tokens:List):\n",
        "    ''' This function takes in the list of tokens\n",
        "     and returns the lowercase version of each token without changing the index positions'''\n",
        "\n",
        "    for i in range(len(tokens)):\n",
        "      tokens[i] = tokens[i].lower()\n",
        "    return tokens\n",
        "\n",
        "  def remove_stopwords(self, tokens:List) -> List:\n",
        "    ''' removes any stop words present as tokens in the list of tokens \n",
        "    present using nltk's corpus of stopwords'''\n",
        "    stop_words = set(stopwords.words('english'))\n",
        "    resultant_tokens = []\n",
        "    for token in tokens:\n",
        "      if token not in stop_words:\n",
        "        resultant_tokens.append(token)\n",
        "    return resultant_tokens\n",
        "\n",
        "  def remove_puncts(self, text:str) -> List:\n",
        "    ''' removes any punctuations present as tokens \n",
        "    and returns the resutlant list of tokens'''\n",
        "\n",
        "    resultant_tokens = []\n",
        "    text = text.translate(str.maketrans('', '', string.punctuation))\n",
        "    resultant_tokens = self.tokenize(text)\n",
        "    return resultant_tokens\n",
        "\n",
        "  def write_to_file(self, path:str, text:str) ->None:\n",
        "    open(path, 'w').close()\n",
        "    f = open(path, 'w')\n",
        "    f.write(text)\n",
        "    f.close()\n",
        "  def make_doc_id_mapping(self, path_to_folder:str)->dict:\n",
        "    mapping = {}\n",
        "    folder = os.fsencode(path_to_folder)\n",
        "    for doc in os.listdir(folder):\n",
        "      doc_name = os.fsdecode(doc)\n",
        "      if doc_name.find('cranfield') == -1:\n",
        "        continue\n",
        "      number = (int)(doc_name[-4:])\n",
        "      mapping[number] = doc_name\n",
        "    return mapping\n",
        "\n"
      ],
      "metadata": {
        "id": "MNEqEXEBgZMi"
      },
      "execution_count": null,
      "outputs": []
    },
    {
      "cell_type": "code",
      "source": [
        "class word:\n",
        "  def __init__(self):\n",
        "    self.value = None\n",
        "    self.freq = 1\n",
        "    self.docs = {}\n",
        "class doc:\n",
        "  def __init__(self, did):\n",
        "    self.docId = did\n",
        "    self.positions = []\n",
        "dictionary = {}"
      ],
      "metadata": {
        "id": "DBk7OrVmhn2x"
      },
      "execution_count": null,
      "outputs": []
    },
    {
      "cell_type": "code",
      "source": [
        "with open('/content/drive/MyDrive/IR_Assignments/A1/doc_id_mapping.pkl', 'rb') as f:\n",
        "  doc_mapping = pickle.load(f)\n",
        "print(doc_mapping)"
      ],
      "metadata": {
        "colab": {
          "base_uri": "https://localhost:8080/"
        },
        "id": "-jgDHpN3sPnf",
        "outputId": "1c1aea2b-1ee5-420c-8bd9-d4415e487e23"
      },
      "execution_count": null,
      "outputs": [
        {
          "output_type": "stream",
          "name": "stdout",
          "text": [
            "{33: 'cranfield0033', 37: 'cranfield0037', 39: 'cranfield0039', 34: 'cranfield0034', 38: 'cranfield0038', 35: 'cranfield0035', 31: 'cranfield0031', 22: 'cranfield0022', 24: 'cranfield0024', 26: 'cranfield0026', 23: 'cranfield0023', 27: 'cranfield0027', 28: 'cranfield0028', 25: 'cranfield0025', 30: 'cranfield0030', 29: 'cranfield0029', 21: 'cranfield0021', 19: 'cranfield0019', 18: 'cranfield0018', 14: 'cranfield0014', 16: 'cranfield0016', 12: 'cranfield0012', 20: 'cranfield0020', 17: 'cranfield0017', 15: 'cranfield0015', 13: 'cranfield0013', 11: 'cranfield0011', 5: 'cranfield0005', 7: 'cranfield0007', 8: 'cranfield0008', 3: 'cranfield0003', 9: 'cranfield0009', 10: 'cranfield0010', 6: 'cranfield0006', 1: 'cranfield0001', 4: 'cranfield0004', 2: 'cranfield0002', 121: 'cranfield0121', 112: 'cranfield0112', 116: 'cranfield0116', 113: 'cranfield0113', 120: 'cranfield0120', 118: 'cranfield0118', 114: 'cranfield0114', 119: 'cranfield0119', 117: 'cranfield0117', 115: 'cranfield0115', 111: 'cranfield0111', 102: 'cranfield0102', 110: 'cranfield0110', 106: 'cranfield0106', 107: 'cranfield0107', 105: 'cranfield0105', 109: 'cranfield0109', 103: 'cranfield0103', 108: 'cranfield0108', 104: 'cranfield0104', 101: 'cranfield0101', 93: 'cranfield0093', 98: 'cranfield0098', 94: 'cranfield0094', 96: 'cranfield0096', 97: 'cranfield0097', 92: 'cranfield0092', 95: 'cranfield0095', 99: 'cranfield0099', 100: 'cranfield0100', 91: 'cranfield0091', 83: 'cranfield0083', 90: 'cranfield0090', 85: 'cranfield0085', 86: 'cranfield0086', 84: 'cranfield0084', 87: 'cranfield0087', 89: 'cranfield0089', 82: 'cranfield0082', 88: 'cranfield0088', 81: 'cranfield0081', 75: 'cranfield0075', 74: 'cranfield0074', 76: 'cranfield0076', 79: 'cranfield0079', 72: 'cranfield0072', 78: 'cranfield0078', 80: 'cranfield0080', 77: 'cranfield0077', 73: 'cranfield0073', 71: 'cranfield0071', 67: 'cranfield0067', 70: 'cranfield0070', 63: 'cranfield0063', 65: 'cranfield0065', 64: 'cranfield0064', 66: 'cranfield0066', 69: 'cranfield0069', 62: 'cranfield0062', 68: 'cranfield0068', 61: 'cranfield0061', 52: 'cranfield0052', 60: 'cranfield0060', 59: 'cranfield0059', 56: 'cranfield0056', 57: 'cranfield0057', 54: 'cranfield0054', 55: 'cranfield0055', 58: 'cranfield0058', 53: 'cranfield0053', 51: 'cranfield0051', 45: 'cranfield0045', 44: 'cranfield0044', 47: 'cranfield0047', 46: 'cranfield0046', 48: 'cranfield0048', 50: 'cranfield0050', 49: 'cranfield0049', 42: 'cranfield0042', 43: 'cranfield0043', 41: 'cranfield0041', 203: 'cranfield0203', 208: 'cranfield0208', 204: 'cranfield0204', 206: 'cranfield0206', 209: 'cranfield0209', 207: 'cranfield0207', 210: 'cranfield0210', 205: 'cranfield0205', 201: 'cranfield0201', 200: 'cranfield0200', 194: 'cranfield0194', 193: 'cranfield0193', 196: 'cranfield0196', 195: 'cranfield0195', 199: 'cranfield0199', 197: 'cranfield0197', 192: 'cranfield0192', 198: 'cranfield0198', 191: 'cranfield0191', 188: 'cranfield0188', 189: 'cranfield0189', 187: 'cranfield0187', 190: 'cranfield0190', 184: 'cranfield0184', 183: 'cranfield0183', 182: 'cranfield0182', 185: 'cranfield0185', 186: 'cranfield0186', 181: 'cranfield0181', 176: 'cranfield0176', 174: 'cranfield0174', 180: 'cranfield0180', 177: 'cranfield0177', 172: 'cranfield0172', 178: 'cranfield0178', 173: 'cranfield0173', 179: 'cranfield0179', 175: 'cranfield0175', 171: 'cranfield0171', 164: 'cranfield0164', 170: 'cranfield0170', 168: 'cranfield0168', 167: 'cranfield0167', 169: 'cranfield0169', 162: 'cranfield0162', 165: 'cranfield0165', 163: 'cranfield0163', 166: 'cranfield0166', 161: 'cranfield0161', 160: 'cranfield0160', 159: 'cranfield0159', 153: 'cranfield0153', 158: 'cranfield0158', 156: 'cranfield0156', 154: 'cranfield0154', 155: 'cranfield0155', 157: 'cranfield0157', 152: 'cranfield0152', 151: 'cranfield0151', 150: 'cranfield0150', 145: 'cranfield0145', 146: 'cranfield0146', 142: 'cranfield0142', 144: 'cranfield0144', 149: 'cranfield0149', 147: 'cranfield0147', 148: 'cranfield0148', 143: 'cranfield0143', 141: 'cranfield0141', 140: 'cranfield0140', 134: 'cranfield0134', 139: 'cranfield0139', 133: 'cranfield0133', 136: 'cranfield0136', 132: 'cranfield0132', 137: 'cranfield0137', 135: 'cranfield0135', 138: 'cranfield0138', 131: 'cranfield0131', 125: 'cranfield0125', 127: 'cranfield0127', 126: 'cranfield0126', 124: 'cranfield0124', 128: 'cranfield0128', 122: 'cranfield0122', 130: 'cranfield0130', 123: 'cranfield0123', 129: 'cranfield0129', 296: 'cranfield0296', 291: 'cranfield0291', 285: 'cranfield0285', 287: 'cranfield0287', 289: 'cranfield0289', 284: 'cranfield0284', 282: 'cranfield0282', 288: 'cranfield0288', 286: 'cranfield0286', 290: 'cranfield0290', 283: 'cranfield0283', 281: 'cranfield0281', 273: 'cranfield0273', 275: 'cranfield0275', 276: 'cranfield0276', 280: 'cranfield0280', 277: 'cranfield0277', 274: 'cranfield0274', 278: 'cranfield0278', 272: 'cranfield0272', 279: 'cranfield0279', 271: 'cranfield0271', 262: 'cranfield0262', 261: 'cranfield0261', 248: 'cranfield0248', 260: 'cranfield0260', 256: 'cranfield0256', 258: 'cranfield0258', 257: 'cranfield0257', 259: 'cranfield0259', 253: 'cranfield0253', 254: 'cranfield0254', 252: 'cranfield0252', 255: 'cranfield0255', 251: 'cranfield0251', 247: 'cranfield0247', 245: 'cranfield0245', 246: 'cranfield0246', 242: 'cranfield0242', 250: 'cranfield0250', 249: 'cranfield0249', 243: 'cranfield0243', 244: 'cranfield0244', 241: 'cranfield0241', 232: 'cranfield0232', 239: 'cranfield0239', 235: 'cranfield0235', 233: 'cranfield0233', 238: 'cranfield0238', 236: 'cranfield0236', 240: 'cranfield0240', 234: 'cranfield0234', 237: 'cranfield0237', 231: 'cranfield0231', 228: 'cranfield0228', 226: 'cranfield0226', 225: 'cranfield0225', 222: 'cranfield0222', 230: 'cranfield0230', 224: 'cranfield0224', 227: 'cranfield0227', 223: 'cranfield0223', 229: 'cranfield0229', 213: 'cranfield0213', 212: 'cranfield0212', 218: 'cranfield0218', 215: 'cranfield0215', 220: 'cranfield0220', 214: 'cranfield0214', 216: 'cranfield0216', 219: 'cranfield0219', 217: 'cranfield0217', 211: 'cranfield0211', 221: 'cranfield0221', 202: 'cranfield0202', 372: 'cranfield0372', 379: 'cranfield0379', 376: 'cranfield0376', 371: 'cranfield0371', 361: 'cranfield0361', 366: 'cranfield0366', 370: 'cranfield0370', 363: 'cranfield0363', 369: 'cranfield0369', 368: 'cranfield0368', 367: 'cranfield0367', 362: 'cranfield0362', 365: 'cranfield0365', 364: 'cranfield0364', 356: 'cranfield0356', 352: 'cranfield0352', 358: 'cranfield0358', 355: 'cranfield0355', 357: 'cranfield0357', 353: 'cranfield0353', 359: 'cranfield0359', 354: 'cranfield0354', 360: 'cranfield0360', 351: 'cranfield0351', 347: 'cranfield0347', 349: 'cranfield0349', 343: 'cranfield0343', 346: 'cranfield0346', 348: 'cranfield0348', 345: 'cranfield0345', 350: 'cranfield0350', 342: 'cranfield0342', 344: 'cranfield0344', 341: 'cranfield0341', 340: 'cranfield0340', 337: 'cranfield0337', 336: 'cranfield0336', 333: 'cranfield0333', 335: 'cranfield0335', 334: 'cranfield0334', 339: 'cranfield0339', 332: 'cranfield0332', 338: 'cranfield0338', 331: 'cranfield0331', 325: 'cranfield0325', 326: 'cranfield0326', 324: 'cranfield0324', 327: 'cranfield0327', 330: 'cranfield0330', 328: 'cranfield0328', 322: 'cranfield0322', 329: 'cranfield0329', 323: 'cranfield0323', 321: 'cranfield0321', 319: 'cranfield0319', 317: 'cranfield0317', 320: 'cranfield0320', 318: 'cranfield0318', 315: 'cranfield0315', 314: 'cranfield0314', 312: 'cranfield0312', 316: 'cranfield0316', 313: 'cranfield0313', 311: 'cranfield0311', 308: 'cranfield0308', 307: 'cranfield0307', 303: 'cranfield0303', 310: 'cranfield0310', 304: 'cranfield0304', 305: 'cranfield0305', 306: 'cranfield0306', 309: 'cranfield0309', 302: 'cranfield0302', 301: 'cranfield0301', 297: 'cranfield0297', 294: 'cranfield0294', 299: 'cranfield0299', 298: 'cranfield0298', 295: 'cranfield0295', 293: 'cranfield0293', 300: 'cranfield0300', 292: 'cranfield0292', 446: 'cranfield0446', 443: 'cranfield0443', 445: 'cranfield0445', 442: 'cranfield0442', 444: 'cranfield0444', 447: 'cranfield0447', 450: 'cranfield0450', 448: 'cranfield0448', 439: 'cranfield0439', 433: 'cranfield0433', 438: 'cranfield0438', 436: 'cranfield0436', 437: 'cranfield0437', 435: 'cranfield0435', 434: 'cranfield0434', 432: 'cranfield0432', 449: 'cranfield0449', 440: 'cranfield0440', 441: 'cranfield0441', 431: 'cranfield0431', 427: 'cranfield0427', 425: 'cranfield0425', 428: 'cranfield0428', 430: 'cranfield0430', 423: 'cranfield0423', 426: 'cranfield0426', 424: 'cranfield0424', 422: 'cranfield0422', 429: 'cranfield0429', 421: 'cranfield0421', 416: 'cranfield0416', 417: 'cranfield0417', 420: 'cranfield0420', 415: 'cranfield0415', 418: 'cranfield0418', 413: 'cranfield0413', 419: 'cranfield0419', 414: 'cranfield0414', 394: 'cranfield0394', 396: 'cranfield0396', 400: 'cranfield0400', 398: 'cranfield0398', 399: 'cranfield0399', 392: 'cranfield0392', 397: 'cranfield0397', 393: 'cranfield0393', 395: 'cranfield0395', 384: 'cranfield0384', 390: 'cranfield0390', 389: 'cranfield0389', 388: 'cranfield0388', 385: 'cranfield0385', 383: 'cranfield0383', 387: 'cranfield0387', 382: 'cranfield0382', 386: 'cranfield0386', 412: 'cranfield0412', 411: 'cranfield0411', 409: 'cranfield0409', 407: 'cranfield0407', 404: 'cranfield0404', 405: 'cranfield0405', 410: 'cranfield0410', 408: 'cranfield0408', 403: 'cranfield0403', 401: 'cranfield0401', 406: 'cranfield0406', 402: 'cranfield0402', 391: 'cranfield0391', 381: 'cranfield0381', 269: 'cranfield0269', 264: 'cranfield0264', 267: 'cranfield0267', 270: 'cranfield0270', 266: 'cranfield0266', 268: 'cranfield0268', 265: 'cranfield0265', 263: 'cranfield0263', 377: 'cranfield0377', 380: 'cranfield0380', 378: 'cranfield0378', 374: 'cranfield0374', 375: 'cranfield0375', 373: 'cranfield0373', 547: 'cranfield0547', 541: 'cranfield0541', 540: 'cranfield0540', 538: 'cranfield0538', 537: 'cranfield0537', 539: 'cranfield0539', 532: 'cranfield0532', 533: 'cranfield0533', 536: 'cranfield0536', 534: 'cranfield0534', 535: 'cranfield0535', 531: 'cranfield0531', 530: 'cranfield0530', 525: 'cranfield0525', 529: 'cranfield0529', 528: 'cranfield0528', 527: 'cranfield0527', 523: 'cranfield0523', 524: 'cranfield0524', 522: 'cranfield0522', 526: 'cranfield0526', 514: 'cranfield0514', 518: 'cranfield0518', 519: 'cranfield0519', 516: 'cranfield0516', 517: 'cranfield0517', 515: 'cranfield0515', 513: 'cranfield0513', 520: 'cranfield0520', 512: 'cranfield0512', 511: 'cranfield0511', 521: 'cranfield0521', 506: 'cranfield0506', 505: 'cranfield0505', 504: 'cranfield0504', 510: 'cranfield0510', 509: 'cranfield0509', 508: 'cranfield0508', 503: 'cranfield0503', 507: 'cranfield0507', 502: 'cranfield0502', 501: 'cranfield0501', 499: 'cranfield0499', 497: 'cranfield0497', 492: 'cranfield0492', 493: 'cranfield0493', 494: 'cranfield0494', 500: 'cranfield0500', 495: 'cranfield0495', 496: 'cranfield0496', 491: 'cranfield0491', 498: 'cranfield0498', 490: 'cranfield0490', 481: 'cranfield0481', 472: 'cranfield0472', 479: 'cranfield0479', 475: 'cranfield0475', 473: 'cranfield0473', 476: 'cranfield0476', 480: 'cranfield0480', 478: 'cranfield0478', 477: 'cranfield0477', 474: 'cranfield0474', 471: 'cranfield0471', 451: 'cranfield0451', 460: 'cranfield0460', 456: 'cranfield0456', 452: 'cranfield0452', 457: 'cranfield0457', 459: 'cranfield0459', 454: 'cranfield0454', 453: 'cranfield0453', 458: 'cranfield0458', 455: 'cranfield0455', 467: 'cranfield0467', 466: 'cranfield0466', 463: 'cranfield0463', 469: 'cranfield0469', 464: 'cranfield0464', 468: 'cranfield0468', 465: 'cranfield0465', 462: 'cranfield0462', 470: 'cranfield0470', 461: 'cranfield0461', 624: 'cranfield0624', 622: 'cranfield0622', 627: 'cranfield0627', 623: 'cranfield0623', 628: 'cranfield0628', 626: 'cranfield0626', 625: 'cranfield0625', 630: 'cranfield0630', 629: 'cranfield0629', 621: 'cranfield0621', 616: 'cranfield0616', 614: 'cranfield0614', 617: 'cranfield0617', 620: 'cranfield0620', 618: 'cranfield0618', 619: 'cranfield0619', 613: 'cranfield0613', 612: 'cranfield0612', 615: 'cranfield0615', 611: 'cranfield0611', 605: 'cranfield0605', 609: 'cranfield0609', 607: 'cranfield0607', 603: 'cranfield0603', 608: 'cranfield0608', 602: 'cranfield0602', 606: 'cranfield0606', 610: 'cranfield0610', 604: 'cranfield0604', 601: 'cranfield0601', 595: 'cranfield0595', 597: 'cranfield0597', 592: 'cranfield0592', 598: 'cranfield0598', 593: 'cranfield0593', 599: 'cranfield0599', 600: 'cranfield0600', 594: 'cranfield0594', 596: 'cranfield0596', 591: 'cranfield0591', 586: 'cranfield0586', 582: 'cranfield0582', 588: 'cranfield0588', 587: 'cranfield0587', 583: 'cranfield0583', 584: 'cranfield0584', 590: 'cranfield0590', 585: 'cranfield0585', 589: 'cranfield0589', 581: 'cranfield0581', 574: 'cranfield0574', 577: 'cranfield0577', 576: 'cranfield0576', 579: 'cranfield0579', 580: 'cranfield0580', 578: 'cranfield0578', 575: 'cranfield0575', 573: 'cranfield0573', 572: 'cranfield0572', 571: 'cranfield0571', 570: 'cranfield0570', 562: 'cranfield0562', 567: 'cranfield0567', 566: 'cranfield0566', 565: 'cranfield0565', 563: 'cranfield0563', 569: 'cranfield0569', 564: 'cranfield0564', 568: 'cranfield0568', 561: 'cranfield0561', 552: 'cranfield0552', 555: 'cranfield0555', 558: 'cranfield0558', 557: 'cranfield0557', 553: 'cranfield0553', 554: 'cranfield0554', 560: 'cranfield0560', 559: 'cranfield0559', 556: 'cranfield0556', 551: 'cranfield0551', 548: 'cranfield0548', 546: 'cranfield0546', 549: 'cranfield0549', 545: 'cranfield0545', 544: 'cranfield0544', 542: 'cranfield0542', 543: 'cranfield0543', 550: 'cranfield0550', 712: 'cranfield0712', 713: 'cranfield0713', 720: 'cranfield0720', 718: 'cranfield0718', 719: 'cranfield0719', 717: 'cranfield0717', 714: 'cranfield0714', 716: 'cranfield0716', 715: 'cranfield0715', 711: 'cranfield0711', 701: 'cranfield0701', 693: 'cranfield0693', 700: 'cranfield0700', 694: 'cranfield0694', 698: 'cranfield0698', 697: 'cranfield0697', 696: 'cranfield0696', 695: 'cranfield0695', 692: 'cranfield0692', 699: 'cranfield0699', 691: 'cranfield0691', 685: 'cranfield0685', 688: 'cranfield0688', 689: 'cranfield0689', 690: 'cranfield0690', 682: 'cranfield0682', 684: 'cranfield0684', 687: 'cranfield0687', 683: 'cranfield0683', 686: 'cranfield0686', 681: 'cranfield0681', 674: 'cranfield0674', 673: 'cranfield0673', 678: 'cranfield0678', 671: 'cranfield0671', 676: 'cranfield0676', 679: 'cranfield0679', 675: 'cranfield0675', 677: 'cranfield0677', 680: 'cranfield0680', 662: 'cranfield0662', 672: 'cranfield0672', 668: 'cranfield0668', 669: 'cranfield0669', 663: 'cranfield0663', 667: 'cranfield0667', 664: 'cranfield0664', 666: 'cranfield0666', 670: 'cranfield0670', 665: 'cranfield0665', 486: 'cranfield0486', 484: 'cranfield0484', 483: 'cranfield0483', 487: 'cranfield0487', 482: 'cranfield0482', 488: 'cranfield0488', 489: 'cranfield0489', 485: 'cranfield0485', 631: 'cranfield0631', 661: 'cranfield0661', 653: 'cranfield0653', 655: 'cranfield0655', 657: 'cranfield0657', 659: 'cranfield0659', 652: 'cranfield0652', 656: 'cranfield0656', 654: 'cranfield0654', 660: 'cranfield0660', 658: 'cranfield0658', 651: 'cranfield0651', 640: 'cranfield0640', 637: 'cranfield0637', 636: 'cranfield0636', 633: 'cranfield0633', 638: 'cranfield0638', 635: 'cranfield0635', 639: 'cranfield0639', 632: 'cranfield0632', 634: 'cranfield0634', 643: 'cranfield0643', 645: 'cranfield0645', 647: 'cranfield0647', 648: 'cranfield0648', 646: 'cranfield0646', 642: 'cranfield0642', 644: 'cranfield0644', 649: 'cranfield0649', 650: 'cranfield0650', 641: 'cranfield0641', 801: 'cranfield0801', 797: 'cranfield0797', 796: 'cranfield0796', 793: 'cranfield0793', 799: 'cranfield0799', 800: 'cranfield0800', 794: 'cranfield0794', 792: 'cranfield0792', 795: 'cranfield0795', 708: 'cranfield0708', 704: 'cranfield0704', 707: 'cranfield0707', 709: 'cranfield0709', 706: 'cranfield0706', 702: 'cranfield0702', 703: 'cranfield0703', 710: 'cranfield0710', 705: 'cranfield0705', 798: 'cranfield0798', 771: 'cranfield0771', 778: 'cranfield0778', 750: 'cranfield0750', 742: 'cranfield0742', 743: 'cranfield0743', 744: 'cranfield0744', 745: 'cranfield0745', 749: 'cranfield0749', 748: 'cranfield0748', 747: 'cranfield0747', 790: 'cranfield0790', 788: 'cranfield0788', 787: 'cranfield0787', 785: 'cranfield0785', 784: 'cranfield0784', 786: 'cranfield0786', 789: 'cranfield0789', 782: 'cranfield0782', 791: 'cranfield0791', 783: 'cranfield0783', 781: 'cranfield0781', 772: 'cranfield0772', 777: 'cranfield0777', 773: 'cranfield0773', 780: 'cranfield0780', 776: 'cranfield0776', 779: 'cranfield0779', 775: 'cranfield0775', 774: 'cranfield0774', 767: 'cranfield0767', 765: 'cranfield0765', 764: 'cranfield0764', 763: 'cranfield0763', 769: 'cranfield0769', 770: 'cranfield0770', 768: 'cranfield0768', 766: 'cranfield0766', 762: 'cranfield0762', 761: 'cranfield0761', 756: 'cranfield0756', 752: 'cranfield0752', 758: 'cranfield0758', 754: 'cranfield0754', 755: 'cranfield0755', 753: 'cranfield0753', 757: 'cranfield0757', 760: 'cranfield0760', 759: 'cranfield0759', 751: 'cranfield0751', 746: 'cranfield0746', 739: 'cranfield0739', 738: 'cranfield0738', 736: 'cranfield0736', 737: 'cranfield0737', 740: 'cranfield0740', 735: 'cranfield0735', 734: 'cranfield0734', 732: 'cranfield0732', 733: 'cranfield0733', 731: 'cranfield0731', 724: 'cranfield0724', 728: 'cranfield0728', 722: 'cranfield0722', 727: 'cranfield0727', 725: 'cranfield0725', 726: 'cranfield0726', 723: 'cranfield0723', 730: 'cranfield0730', 729: 'cranfield0729', 721: 'cranfield0721', 883: 'cranfield0883', 881: 'cranfield0881', 873: 'cranfield0873', 875: 'cranfield0875', 878: 'cranfield0878', 874: 'cranfield0874', 876: 'cranfield0876', 877: 'cranfield0877', 872: 'cranfield0872', 880: 'cranfield0880', 879: 'cranfield0879', 871: 'cranfield0871', 863: 'cranfield0863', 866: 'cranfield0866', 867: 'cranfield0867', 870: 'cranfield0870', 865: 'cranfield0865', 862: 'cranfield0862', 869: 'cranfield0869', 864: 'cranfield0864', 868: 'cranfield0868', 861: 'cranfield0861', 860: 'cranfield0860', 858: 'cranfield0858', 856: 'cranfield0856', 852: 'cranfield0852', 854: 'cranfield0854', 859: 'cranfield0859', 857: 'cranfield0857', 855: 'cranfield0855', 853: 'cranfield0853', 851: 'cranfield0851', 849: 'cranfield0849', 846: 'cranfield0846', 842: 'cranfield0842', 843: 'cranfield0843', 850: 'cranfield0850', 848: 'cranfield0848', 844: 'cranfield0844', 847: 'cranfield0847', 845: 'cranfield0845', 841: 'cranfield0841', 816: 'cranfield0816', 814: 'cranfield0814', 819: 'cranfield0819', 813: 'cranfield0813', 817: 'cranfield0817', 820: 'cranfield0820', 815: 'cranfield0815', 812: 'cranfield0812', 818: 'cranfield0818', 821: 'cranfield0821', 809: 'cranfield0809', 822: 'cranfield0822', 826: 'cranfield0826', 828: 'cranfield0828', 829: 'cranfield0829', 824: 'cranfield0824', 823: 'cranfield0823', 827: 'cranfield0827', 830: 'cranfield0830', 838: 'cranfield0838', 839: 'cranfield0839', 835: 'cranfield0835', 837: 'cranfield0837', 840: 'cranfield0840', 836: 'cranfield0836', 832: 'cranfield0832', 833: 'cranfield0833', 834: 'cranfield0834', 831: 'cranfield0831', 825: 'cranfield0825', 741: 'cranfield0741', 811: 'cranfield0811', 971: 'cranfield0971', 969: 'cranfield0969', 970: 'cranfield0970', 966: 'cranfield0966', 962: 'cranfield0962', 968: 'cranfield0968', 963: 'cranfield0963', 965: 'cranfield0965', 964: 'cranfield0964', 967: 'cranfield0967', 961: 'cranfield0961', 958: 'cranfield0958', 960: 'cranfield0960', 957: 'cranfield0957', 953: 'cranfield0953', 956: 'cranfield0956', 955: 'cranfield0955', 952: 'cranfield0952', 959: 'cranfield0959', 954: 'cranfield0954', 951: 'cranfield0951', 946: 'cranfield0946', 949: 'cranfield0949', 947: 'cranfield0947', 943: 'cranfield0943', 944: 'cranfield0944', 950: 'cranfield0950', 948: 'cranfield0948', 942: 'cranfield0942', 945: 'cranfield0945', 941: 'cranfield0941', 934: 'cranfield0934', 939: 'cranfield0939', 935: 'cranfield0935', 937: 'cranfield0937', 932: 'cranfield0932', 933: 'cranfield0933', 938: 'cranfield0938', 940: 'cranfield0940', 923: 'cranfield0923', 928: 'cranfield0928', 927: 'cranfield0927', 930: 'cranfield0930', 929: 'cranfield0929', 925: 'cranfield0925', 924: 'cranfield0924', 922: 'cranfield0922', 921: 'cranfield0921', 919: 'cranfield0919', 917: 'cranfield0917', 912: 'cranfield0912', 915: 'cranfield0915', 913: 'cranfield0913', 914: 'cranfield0914', 916: 'cranfield0916', 920: 'cranfield0920', 918: 'cranfield0918', 911: 'cranfield0911', 908: 'cranfield0908', 906: 'cranfield0906', 902: 'cranfield0902', 907: 'cranfield0907', 910: 'cranfield0910', 904: 'cranfield0904', 905: 'cranfield0905', 909: 'cranfield0909', 903: 'cranfield0903', 901: 'cranfield0901', 810: 'cranfield0810', 802: 'cranfield0802', 803: 'cranfield0803', 804: 'cranfield0804', 808: 'cranfield0808', 805: 'cranfield0805', 806: 'cranfield0806', 807: 'cranfield0807', 899: 'cranfield0899', 895: 'cranfield0895', 896: 'cranfield0896', 898: 'cranfield0898', 900: 'cranfield0900', 897: 'cranfield0897', 894: 'cranfield0894', 893: 'cranfield0893', 892: 'cranfield0892', 891: 'cranfield0891', 884: 'cranfield0884', 882: 'cranfield0882', 889: 'cranfield0889', 885: 'cranfield0885', 888: 'cranfield0888', 890: 'cranfield0890', 887: 'cranfield0887', 886: 'cranfield0886', 1061: 'cranfield1061', 1060: 'cranfield1060', 1056: 'cranfield1056', 1059: 'cranfield1059', 1053: 'cranfield1053', 1057: 'cranfield1057', 1058: 'cranfield1058', 1054: 'cranfield1054', 1051: 'cranfield1051', 1052: 'cranfield1052', 1055: 'cranfield1055', 1042: 'cranfield1042', 1050: 'cranfield1050', 1047: 'cranfield1047', 1044: 'cranfield1044', 1045: 'cranfield1045', 1049: 'cranfield1049', 1048: 'cranfield1048', 1043: 'cranfield1043', 1046: 'cranfield1046', 1041: 'cranfield1041', 926: 'cranfield0926', 931: 'cranfield0931', 1036: 'cranfield1036', 1033: 'cranfield1033', 1035: 'cranfield1035', 1034: 'cranfield1034', 1039: 'cranfield1039', 1032: 'cranfield1032', 1038: 'cranfield1038', 1037: 'cranfield1037', 1040: 'cranfield1040', 1031: 'cranfield1031', 1026: 'cranfield1026', 1028: 'cranfield1028', 1024: 'cranfield1024', 1030: 'cranfield1030', 1029: 'cranfield1029', 1027: 'cranfield1027', 1022: 'cranfield1022', 1023: 'cranfield1023', 1025: 'cranfield1025', 1021: 'cranfield1021', 1013: 'cranfield1013', 1014: 'cranfield1014', 1017: 'cranfield1017', 1016: 'cranfield1016', 1015: 'cranfield1015', 1020: 'cranfield1020', 1019: 'cranfield1019', 1012: 'cranfield1012', 1018: 'cranfield1018', 1011: 'cranfield1011', 1002: 'cranfield1002', 1009: 'cranfield1009', 1007: 'cranfield1007', 1006: 'cranfield1006', 1004: 'cranfield1004', 1010: 'cranfield1010', 1008: 'cranfield1008', 1003: 'cranfield1003', 1005: 'cranfield1005', 1001: 'cranfield1001', 998: 'cranfield0998', 1000: 'cranfield1000', 997: 'cranfield0997', 996: 'cranfield0996', 999: 'cranfield0999', 995: 'cranfield0995', 993: 'cranfield0993', 994: 'cranfield0994', 991: 'cranfield0991', 992: 'cranfield0992', 986: 'cranfield0986', 988: 'cranfield0988', 984: 'cranfield0984', 982: 'cranfield0982', 983: 'cranfield0983', 987: 'cranfield0987', 989: 'cranfield0989', 990: 'cranfield0990', 985: 'cranfield0985', 981: 'cranfield0981', 980: 'cranfield0980', 972: 'cranfield0972', 978: 'cranfield0978', 973: 'cranfield0973', 974: 'cranfield0974', 976: 'cranfield0976', 975: 'cranfield0975', 979: 'cranfield0979', 977: 'cranfield0977', 1148: 'cranfield1148', 1141: 'cranfield1141', 1134: 'cranfield1134', 1137: 'cranfield1137', 1135: 'cranfield1135', 1132: 'cranfield1132', 1133: 'cranfield1133', 1140: 'cranfield1140', 1138: 'cranfield1138', 1139: 'cranfield1139', 1136: 'cranfield1136', 1131: 'cranfield1131', 1125: 'cranfield1125', 1128: 'cranfield1128', 1130: 'cranfield1130', 1124: 'cranfield1124', 1127: 'cranfield1127', 1126: 'cranfield1126', 1129: 'cranfield1129', 1122: 'cranfield1122', 1096: 'cranfield1096', 1092: 'cranfield1092', 1095: 'cranfield1095', 1099: 'cranfield1099', 1097: 'cranfield1097', 1100: 'cranfield1100', 1098: 'cranfield1098', 1093: 'cranfield1093', 1091: 'cranfield1091', 1117: 'cranfield1117', 1116: 'cranfield1116', 1119: 'cranfield1119', 1120: 'cranfield1120', 1113: 'cranfield1113', 1114: 'cranfield1114', 1118: 'cranfield1118', 1112: 'cranfield1112', 1115: 'cranfield1115', 1123: 'cranfield1123', 1121: 'cranfield1121', 1111: 'cranfield1111', 1106: 'cranfield1106', 1104: 'cranfield1104', 1110: 'cranfield1110', 1108: 'cranfield1108', 1105: 'cranfield1105', 1109: 'cranfield1109', 1102: 'cranfield1102', 1107: 'cranfield1107', 1103: 'cranfield1103', 1101: 'cranfield1101', 936: 'cranfield0936', 1094: 'cranfield1094', 1082: 'cranfield1082', 1088: 'cranfield1088', 1083: 'cranfield1083', 1084: 'cranfield1084', 1085: 'cranfield1085', 1089: 'cranfield1089', 1087: 'cranfield1087', 1086: 'cranfield1086', 1090: 'cranfield1090', 1081: 'cranfield1081', 1073: 'cranfield1073', 1078: 'cranfield1078', 1075: 'cranfield1075', 1077: 'cranfield1077', 1076: 'cranfield1076', 1079: 'cranfield1079', 1080: 'cranfield1080', 1072: 'cranfield1072', 1074: 'cranfield1074', 1071: 'cranfield1071', 1064: 'cranfield1064', 1070: 'cranfield1070', 1067: 'cranfield1067', 1068: 'cranfield1068', 1063: 'cranfield1063', 1062: 'cranfield1062', 1069: 'cranfield1069', 1066: 'cranfield1066', 1065: 'cranfield1065', 1239: 'cranfield1239', 1231: 'cranfield1231', 1221: 'cranfield1221', 1223: 'cranfield1223', 1228: 'cranfield1228', 1226: 'cranfield1226', 1224: 'cranfield1224', 1227: 'cranfield1227', 1230: 'cranfield1230', 1222: 'cranfield1222', 1225: 'cranfield1225', 1229: 'cranfield1229', 1218: 'cranfield1218', 1213: 'cranfield1213', 1216: 'cranfield1216', 1219: 'cranfield1219', 1212: 'cranfield1212', 1214: 'cranfield1214', 1215: 'cranfield1215', 1220: 'cranfield1220', 1217: 'cranfield1217', 1211: 'cranfield1211', 1203: 'cranfield1203', 1208: 'cranfield1208', 1209: 'cranfield1209', 1210: 'cranfield1210', 1206: 'cranfield1206', 1204: 'cranfield1204', 1207: 'cranfield1207', 1202: 'cranfield1202', 1191: 'cranfield1191', 1205: 'cranfield1205', 1186: 'cranfield1186', 1184: 'cranfield1184', 1182: 'cranfield1182', 1190: 'cranfield1190', 1187: 'cranfield1187', 1189: 'cranfield1189', 1188: 'cranfield1188', 1183: 'cranfield1183', 1201: 'cranfield1201', 1192: 'cranfield1192', 1195: 'cranfield1195', 1198: 'cranfield1198', 1200: 'cranfield1200', 1194: 'cranfield1194', 1197: 'cranfield1197', 1193: 'cranfield1193', 1196: 'cranfield1196', 1199: 'cranfield1199', 1185: 'cranfield1185', 1181: 'cranfield1181', 1143: 'cranfield1143', 1144: 'cranfield1144', 1149: 'cranfield1149', 1150: 'cranfield1150', 1145: 'cranfield1145', 1142: 'cranfield1142', 1147: 'cranfield1147', 1146: 'cranfield1146', 1152: 'cranfield1152', 1157: 'cranfield1157', 1153: 'cranfield1153', 1154: 'cranfield1154', 1158: 'cranfield1158', 1155: 'cranfield1155', 1159: 'cranfield1159', 1156: 'cranfield1156', 1160: 'cranfield1160', 1179: 'cranfield1179', 1173: 'cranfield1173', 1174: 'cranfield1174', 1175: 'cranfield1175', 1172: 'cranfield1172', 1178: 'cranfield1178', 1177: 'cranfield1177', 1176: 'cranfield1176', 1180: 'cranfield1180', 1171: 'cranfield1171', 1165: 'cranfield1165', 1170: 'cranfield1170', 1166: 'cranfield1166', 1169: 'cranfield1169', 1163: 'cranfield1163', 1162: 'cranfield1162', 1168: 'cranfield1168', 1164: 'cranfield1164', 1167: 'cranfield1167', 1151: 'cranfield1151', 1318: 'cranfield1318', 1312: 'cranfield1312', 1319: 'cranfield1319', 1313: 'cranfield1313', 1320: 'cranfield1320', 1316: 'cranfield1316', 1315: 'cranfield1315', 1314: 'cranfield1314', 1317: 'cranfield1317', 1311: 'cranfield1311', 1305: 'cranfield1305', 1306: 'cranfield1306', 1307: 'cranfield1307', 1303: 'cranfield1303', 1309: 'cranfield1309', 1308: 'cranfield1308', 1310: 'cranfield1310', 1302: 'cranfield1302', 1304: 'cranfield1304', 1301: 'cranfield1301', 1300: 'cranfield1300', 1292: 'cranfield1292', 1299: 'cranfield1299', 1296: 'cranfield1296', 1297: 'cranfield1297', 1295: 'cranfield1295', 1294: 'cranfield1294', 1298: 'cranfield1298', 1293: 'cranfield1293', 1291: 'cranfield1291', 1289: 'cranfield1289', 1285: 'cranfield1285', 1284: 'cranfield1284', 1290: 'cranfield1290', 1283: 'cranfield1283', 1282: 'cranfield1282', 1287: 'cranfield1287', 1286: 'cranfield1286', 1288: 'cranfield1288', 1281: 'cranfield1281', 1280: 'cranfield1280', 1273: 'cranfield1273', 1279: 'cranfield1279', 1276: 'cranfield1276', 1277: 'cranfield1277', 1275: 'cranfield1275', 1274: 'cranfield1274', 1278: 'cranfield1278', 1271: 'cranfield1271', 1272: 'cranfield1272', 1270: 'cranfield1270', 1264: 'cranfield1264', 1265: 'cranfield1265', 1263: 'cranfield1263', 1266: 'cranfield1266', 1262: 'cranfield1262', 1268: 'cranfield1268', 1269: 'cranfield1269', 1267: 'cranfield1267', 1261: 'cranfield1261', 1253: 'cranfield1253', 1257: 'cranfield1257', 1252: 'cranfield1252', 1260: 'cranfield1260', 1255: 'cranfield1255', 1259: 'cranfield1259', 1254: 'cranfield1254', 1258: 'cranfield1258', 1256: 'cranfield1256', 1251: 'cranfield1251', 1248: 'cranfield1248', 1249: 'cranfield1249', 1242: 'cranfield1242', 1246: 'cranfield1246', 1244: 'cranfield1244', 1247: 'cranfield1247', 1243: 'cranfield1243', 1250: 'cranfield1250', 1245: 'cranfield1245', 1241: 'cranfield1241', 1233: 'cranfield1233', 1235: 'cranfield1235', 1240: 'cranfield1240', 1236: 'cranfield1236', 1232: 'cranfield1232', 1237: 'cranfield1237', 1234: 'cranfield1234', 1238: 'cranfield1238', 1381: 'cranfield1381', 1395: 'cranfield1395', 1397: 'cranfield1397', 1396: 'cranfield1396', 1394: 'cranfield1394', 1392: 'cranfield1392', 1400: 'cranfield1400', 1393: 'cranfield1393', 1398: 'cranfield1398', 1399: 'cranfield1399', 1377: 'cranfield1377', 1374: 'cranfield1374', 1376: 'cranfield1376', 1379: 'cranfield1379', 1373: 'cranfield1373', 1378: 'cranfield1378', 1375: 'cranfield1375', 1380: 'cranfield1380', 1372: 'cranfield1372', 1391: 'cranfield1391', 1386: 'cranfield1386', 1371: 'cranfield1371', 1161: 'cranfield1161', 1368: 'cranfield1368', 1370: 'cranfield1370', 1364: 'cranfield1364', 1366: 'cranfield1366', 1362: 'cranfield1362', 1365: 'cranfield1365', 1363: 'cranfield1363', 1367: 'cranfield1367', 1369: 'cranfield1369', 1361: 'cranfield1361', 1355: 'cranfield1355', 1357: 'cranfield1357', 1352: 'cranfield1352', 1360: 'cranfield1360', 1353: 'cranfield1353', 1356: 'cranfield1356', 1358: 'cranfield1358', 1354: 'cranfield1354', 1359: 'cranfield1359', 1351: 'cranfield1351', 1342: 'cranfield1342', 1349: 'cranfield1349', 1348: 'cranfield1348', 1343: 'cranfield1343', 1347: 'cranfield1347', 1346: 'cranfield1346', 1350: 'cranfield1350', 1344: 'cranfield1344', 1345: 'cranfield1345', 1341: 'cranfield1341', 1336: 'cranfield1336', 1339: 'cranfield1339', 1337: 'cranfield1337', 1340: 'cranfield1340', 1332: 'cranfield1332', 1335: 'cranfield1335', 1333: 'cranfield1333', 1338: 'cranfield1338', 1325: 'cranfield1325', 1324: 'cranfield1324', 1330: 'cranfield1330', 1328: 'cranfield1328', 1323: 'cranfield1323', 1329: 'cranfield1329', 1326: 'cranfield1326', 1322: 'cranfield1322', 1327: 'cranfield1327', 1334: 'cranfield1334', 1321: 'cranfield1321', 1390: 'cranfield1390', 1383: 'cranfield1383', 1385: 'cranfield1385', 1382: 'cranfield1382', 1384: 'cranfield1384', 1387: 'cranfield1387', 1388: 'cranfield1388', 1389: 'cranfield1389', 1331: 'cranfield1331', 32: 'cranfield0032', 36: 'cranfield0036', 40: 'cranfield0040'}\n"
          ]
        }
      ]
    },
    {
      "cell_type": "code",
      "source": [
        "path_to_folder = '/content/drive/MyDrive/IR_Assignments/A1/Processed_Dataset'"
      ],
      "metadata": {
        "id": "3bnerF2jQ4z8"
      },
      "execution_count": null,
      "outputs": []
    },
    {
      "cell_type": "code",
      "source": [
        "proc = preprocessor()\n",
        "for doc_id in doc_mapping.keys():\n",
        "  doc_name = doc_mapping[doc_id]\n",
        "  path_to_doc = path_to_folder + f'/{doc_name}'\n",
        "  text = proc.read_file(path_to_doc, 'text')\n",
        "  tokens = proc.tokenize(text)\n",
        "  for idx  in range(len(tokens)):\n",
        "    token = tokens[idx]\n",
        "    if token in dictionary:\n",
        "      element = dictionary[token]\n",
        "      if doc_id in element.docs:\n",
        "        element.docs[doc_id].positions.append(idx)\n",
        "      else:\n",
        "        element.docs[doc_id] = doc(doc_id)\n",
        "        document = dictionary[token].docs[doc_id]\n",
        "        document.positions.append(idx)\n",
        "        element.freq= len(dictionary[token].docs)\n",
        "    else:\n",
        "      dictionary[token] = word()\n",
        "      element = dictionary[token]\n",
        "      element.value = token\n",
        "      element.docs[doc_id] = doc(doc_id)\n",
        "      document = element.docs[doc_id]\n",
        "      document.positions.append(idx)\n",
        "print(dictionary)"
      ],
      "metadata": {
        "id": "4jGv5d2njfnU"
      },
      "execution_count": null,
      "outputs": []
    },
    {
      "cell_type": "code",
      "source": [
        "dst_path = '/content/drive/MyDrive/IR_Assignments/A1/positional_index.pkl'\n",
        "with open(dst_path, 'wb') as f:\n",
        "  pickle.dump(dictionary, f, protocol = pickle.HIGHEST_PROTOCOL)"
      ],
      "metadata": {
        "id": "iBet5K9hAMSg"
      },
      "execution_count": null,
      "outputs": []
    },
    {
      "cell_type": "code",
      "source": [
        "with open('/content/drive/MyDrive/IR_Assignments/A1/positional_index.pkl', 'rb') as f:\n",
        "  dictionary = pickle.load(f)\n",
        "print(len(dictionary))"
      ],
      "metadata": {
        "colab": {
          "base_uri": "https://localhost:8080/"
        },
        "id": "b7XNIIGj_imd",
        "outputId": "0de7cfae-4455-4c5b-a95e-fa003febbe02"
      },
      "execution_count": null,
      "outputs": [
        {
          "output_type": "stream",
          "name": "stdout",
          "text": [
            "8996\n"
          ]
        }
      ]
    }
  ]
}